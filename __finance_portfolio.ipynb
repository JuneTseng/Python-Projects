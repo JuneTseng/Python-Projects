{
 "cells": [
  {
   "cell_type": "code",
   "execution_count": 19,
   "metadata": {},
   "outputs": [],
   "source": [
    "import bs4\n",
    "import requests\n",
    "from bs4 import BeautifulSoup\n",
    "import pandas as pd"
   ]
  },
  {
   "cell_type": "code",
   "execution_count": 20,
   "metadata": {},
   "outputs": [],
   "source": [
    "# # Import initial libraries\n",
    "# import numpy as np\n",
    "# import datetime\n",
    "# import matplotlib.pyplot as plt\n",
    "# import plotly.graph_objs as go\n",
    "# %matplotlib inline"
   ]
  },
  {
   "cell_type": "markdown",
   "metadata": {},
   "source": [
    "### Webscraping for Ticker Info\n",
    "\n",
    "#### First I will use a single security, VTI in this instance, to make sure I am pulling the data correctly"
   ]
  },
  {
   "cell_type": "code",
   "execution_count": 26,
   "metadata": {},
   "outputs": [],
   "source": [
    "r = requests.get('https://finance.yahoo.com/quote/VTI?p=VTI')"
   ]
  },
  {
   "cell_type": "code",
   "execution_count": 27,
   "metadata": {},
   "outputs": [],
   "source": [
    "soup = bs4.BeautifulSoup(r.text, \"xml\")"
   ]
  },
  {
   "cell_type": "code",
   "execution_count": 29,
   "metadata": {},
   "outputs": [
    {
     "data": {
      "text/plain": [
       "'151.20'"
      ]
     },
     "execution_count": 29,
     "metadata": {},
     "output_type": "execute_result"
    }
   ],
   "source": [
    "soup.find_all(name = 'div', attrs = {'class':'My(6px) Pos(r) smartphone_Mt(6px)'})[0].find('span').text"
   ]
  },
  {
   "cell_type": "markdown",
   "metadata": {},
   "source": [
    "### Creating a Function\n",
    "#### Here I create a function that allows you to pass any ticker symbol into it and retrieve the current price from yahoo finance"
   ]
  },
  {
   "cell_type": "code",
   "execution_count": 38,
   "metadata": {},
   "outputs": [],
   "source": [
    "def parseCurrentPrice(stock):\n",
    "    r = requests.get('https://finance.yahoo.com/quote/{}?p={}'.format(stock,stock))\n",
    "    soup = bs4.BeautifulSoup(r.text, \"xml\")\n",
    "    price = soup.find_all(name = 'div', attrs = {'class':'My(6px) Pos(r) smartphone_Mt(6px)'})[0].find('span').text\n",
    "    return print('The current price of ' + str(stock).upper() + ' is: ' + str(price))"
   ]
  },
  {
   "cell_type": "code",
   "execution_count": 39,
   "metadata": {},
   "outputs": [
    {
     "name": "stdout",
     "output_type": "stream",
     "text": [
      "The current price of FB is: 180.11\n"
     ]
    }
   ],
   "source": [
    "parseCurrentPrice('fb')"
   ]
  },
  {
   "cell_type": "markdown",
   "metadata": {},
   "source": [
    "#### I will now try to capture historic data for tickers"
   ]
  },
  {
   "cell_type": "code",
   "execution_count": 40,
   "metadata": {},
   "outputs": [],
   "source": [
    "hist = requests.get('https://finance.yahoo.com/quote/VTI/history?p=VTI')"
   ]
  },
  {
   "cell_type": "code",
   "execution_count": 41,
   "metadata": {},
   "outputs": [
    {
     "data": {
      "text/plain": [
       "'Date'"
      ]
     },
     "execution_count": 41,
     "metadata": {},
     "output_type": "execute_result"
    }
   ],
   "source": [
    "soups = bs4.BeautifulSoup(hist.text, \"xml\")\n",
    "soups.find_all(name = 'div', attrs = {'class':'Pb(10px) Ovx(a) W(100%)'})[0].find('span').text"
   ]
  },
  {
   "cell_type": "markdown",
   "metadata": {},
   "source": [
    "#### We will come back to that attempt.\n",
    "\n",
    "### I will now attempt to have my program download a csv and read it for historical data"
   ]
  },
  {
   "cell_type": "code",
   "execution_count": 42,
   "metadata": {},
   "outputs": [],
   "source": [
    "from selenium import webdriver"
   ]
  },
  {
   "cell_type": "code",
   "execution_count": 45,
   "metadata": {
    "scrolled": true
   },
   "outputs": [
    {
     "name": "stdout",
     "output_type": "stream",
     "text": [
      "\n",
      "Checking for win32 chromedriver:76.0.3809.126 in cache\n",
      "Driver found in C:\\Users\\ryanJ\\.wdm\\chromedriver\\76.0.3809.126\\win32/chromedriver.exe\n"
     ]
    }
   ],
   "source": [
    "from webdriver_manager.chrome import ChromeDriverManager\n",
    "\n",
    "driver = webdriver.Chrome(ChromeDriverManager().install())\n",
    "\n",
    "driver.get('https://finance.yahoo.com/quote/VTI/history?p=VTI')"
   ]
  },
  {
   "cell_type": "code",
   "execution_count": 46,
   "metadata": {},
   "outputs": [],
   "source": [
    "download_data = driver.find_element_by_link_text('Download Data')\n",
    "download_data.click()"
   ]
  },
  {
   "cell_type": "code",
   "execution_count": 47,
   "metadata": {},
   "outputs": [
    {
     "data": {
      "text/html": [
       "<div>\n",
       "<style scoped>\n",
       "    .dataframe tbody tr th:only-of-type {\n",
       "        vertical-align: middle;\n",
       "    }\n",
       "\n",
       "    .dataframe tbody tr th {\n",
       "        vertical-align: top;\n",
       "    }\n",
       "\n",
       "    .dataframe thead th {\n",
       "        text-align: right;\n",
       "    }\n",
       "</style>\n",
       "<table border=\"1\" class=\"dataframe\">\n",
       "  <thead>\n",
       "    <tr style=\"text-align: right;\">\n",
       "      <th></th>\n",
       "      <th>Open</th>\n",
       "      <th>High</th>\n",
       "      <th>Low</th>\n",
       "      <th>Close</th>\n",
       "      <th>Adj Close</th>\n",
       "      <th>Volume</th>\n",
       "    </tr>\n",
       "    <tr>\n",
       "      <th>Date</th>\n",
       "      <th></th>\n",
       "      <th></th>\n",
       "      <th></th>\n",
       "      <th></th>\n",
       "      <th></th>\n",
       "      <th></th>\n",
       "    </tr>\n",
       "  </thead>\n",
       "  <tbody>\n",
       "    <tr>\n",
       "      <th>2018-09-19</th>\n",
       "      <td>150.119995</td>\n",
       "      <td>150.479996</td>\n",
       "      <td>150.009995</td>\n",
       "      <td>150.149994</td>\n",
       "      <td>146.546326</td>\n",
       "      <td>1809800</td>\n",
       "    </tr>\n",
       "    <tr>\n",
       "      <th>2018-09-20</th>\n",
       "      <td>150.830002</td>\n",
       "      <td>151.470001</td>\n",
       "      <td>150.520004</td>\n",
       "      <td>151.309998</td>\n",
       "      <td>147.678497</td>\n",
       "      <td>1713900</td>\n",
       "    </tr>\n",
       "    <tr>\n",
       "      <th>2018-09-21</th>\n",
       "      <td>151.820007</td>\n",
       "      <td>151.839996</td>\n",
       "      <td>151.050003</td>\n",
       "      <td>151.160004</td>\n",
       "      <td>147.532104</td>\n",
       "      <td>1986100</td>\n",
       "    </tr>\n",
       "    <tr>\n",
       "      <th>2018-09-24</th>\n",
       "      <td>150.869995</td>\n",
       "      <td>150.929993</td>\n",
       "      <td>150.270004</td>\n",
       "      <td>150.610001</td>\n",
       "      <td>146.995300</td>\n",
       "      <td>1668600</td>\n",
       "    </tr>\n",
       "    <tr>\n",
       "      <th>2018-09-25</th>\n",
       "      <td>150.889999</td>\n",
       "      <td>151.070007</td>\n",
       "      <td>150.419998</td>\n",
       "      <td>150.529999</td>\n",
       "      <td>146.917206</td>\n",
       "      <td>2318900</td>\n",
       "    </tr>\n",
       "  </tbody>\n",
       "</table>\n",
       "</div>"
      ],
      "text/plain": [
       "                  Open        High         Low       Close   Adj Close  \\\n",
       "Date                                                                     \n",
       "2018-09-19  150.119995  150.479996  150.009995  150.149994  146.546326   \n",
       "2018-09-20  150.830002  151.470001  150.520004  151.309998  147.678497   \n",
       "2018-09-21  151.820007  151.839996  151.050003  151.160004  147.532104   \n",
       "2018-09-24  150.869995  150.929993  150.270004  150.610001  146.995300   \n",
       "2018-09-25  150.889999  151.070007  150.419998  150.529999  146.917206   \n",
       "\n",
       "             Volume  \n",
       "Date                 \n",
       "2018-09-19  1809800  \n",
       "2018-09-20  1713900  \n",
       "2018-09-21  1986100  \n",
       "2018-09-24  1668600  \n",
       "2018-09-25  2318900  "
      ]
     },
     "execution_count": 47,
     "metadata": {},
     "output_type": "execute_result"
    }
   ],
   "source": [
    "df = pd.read_csv('VTI.csv', index_col='Date')\n",
    "df.head()"
   ]
  }
 ],
 "metadata": {
  "kernelspec": {
   "display_name": "Python 3",
   "language": "python",
   "name": "python3"
  },
  "language_info": {
   "codemirror_mode": {
    "name": "ipython",
    "version": 3
   },
   "file_extension": ".py",
   "mimetype": "text/x-python",
   "name": "python",
   "nbconvert_exporter": "python",
   "pygments_lexer": "ipython3",
   "version": "3.6.3"
  }
 },
 "nbformat": 4,
 "nbformat_minor": 2
}
